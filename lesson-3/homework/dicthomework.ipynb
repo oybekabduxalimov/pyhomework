{
 "cells": [
  {
   "cell_type": "code",
   "execution_count": null,
   "metadata": {},
   "outputs": [
    {
     "data": {
      "text/plain": [
       "2\n"
      ]
     },
     "metadata": {},
     "output_type": "display_data"
    }
   ],
   "source": [
    "# 1. Get Value: Retrieve the associated value from a dictionary, considering what to return if the key doesn’t exist.\n",
    "d = {\"a\": 1, \"b\": 2, \"c\": 3}\n",
    "key = \"b\"\n",
    "if not d.get(key):\n",
    "    print(\"No value or Empty\")\n",
    "else:\n",
    "    print(d.get(key))"
   ]
  },
  {
   "cell_type": "code",
   "execution_count": null,
   "metadata": {},
   "outputs": [
    {
     "data": {
      "text/plain": [
       "It doesnt exist\n"
      ]
     },
     "metadata": {},
     "output_type": "display_data"
    }
   ],
   "source": [
    "# 2. Check Key: Check if a key is present in the dictionary.\n",
    "d = {\"a\": 1, \"b\": 2, \"c\": 3}\n",
    "key = \"d\"\n",
    "if key in d:\n",
    "    print(\"It exists\")\n",
    "else:\n",
    "    print(\"It doesnt exist\")"
   ]
  },
  {
   "cell_type": "code",
   "execution_count": null,
   "metadata": {},
   "outputs": [
    {
     "data": {
      "text/plain": [
       "3\n"
      ]
     },
     "metadata": {},
     "output_type": "display_data"
    }
   ],
   "source": [
    "# 3. Count Keys: Determine the number of keys in the dictionary.\n",
    "d = {\"a\": 1, \"b\": 2, \"c\": 3}\n",
    "print(len(d))\n"
   ]
  },
  {
   "cell_type": "code",
   "execution_count": null,
   "metadata": {},
   "outputs": [
    {
     "data": {
      "text/plain": [
       "['a', 'b', 'c']\n"
      ]
     },
     "metadata": {},
     "output_type": "display_data"
    }
   ],
   "source": [
    "# 4. Get All Keys: Create a list that contains all the keys in the dictionary.\n",
    "d = {\"a\": 1, \"b\": 2, \"c\": 3}\n",
    "list = []\n",
    "\n",
    "for key in d.keys():\n",
    "    list.append(key)\n",
    "print(list)"
   ]
  },
  {
   "cell_type": "code",
   "execution_count": null,
   "metadata": {},
   "outputs": [
    {
     "data": {
      "text/plain": [
       "[1, 2, 3]\n"
      ]
     },
     "metadata": {},
     "output_type": "display_data"
    }
   ],
   "source": [
    "# 5. Get All Values: Create a list that contains all the values in the dictionary.\n",
    "d = {\"a\": 1, \"b\": 2, \"c\": 3}\n",
    "list = []\n",
    "\n",
    "for value in d.values():\n",
    "    list.append(value)\n",
    "print(list)"
   ]
  },
  {
   "cell_type": "code",
   "execution_count": null,
   "metadata": {},
   "outputs": [
    {
     "data": {
      "text/plain": [
       "{'a': 1, 'b': 2, 'c': 3, 'd': 4}\n"
      ]
     },
     "metadata": {},
     "output_type": "display_data"
    }
   ],
   "source": [
    "dict1 = {\"a\": 1, \"b\": 2}\n",
    "dict2 = {\"c\": 3, \"d\": 4}\n",
    "\n",
    "result = dict1 | dict2\n",
    "print(result)\n"
   ]
  },
  {
   "cell_type": "code",
   "execution_count": null,
   "metadata": {},
   "outputs": [
    {
     "data": {
      "text/plain": [
       "{'a': 1, 'c': 3}\n"
      ]
     },
     "metadata": {},
     "output_type": "display_data"
    }
   ],
   "source": [
    "# 7. Remove Key: Remove a key from the dictionary, handling the case where it doesn’t exist.\n",
    "d = {\"a\": 1, \"b\": 2, \"c\": 3}\n",
    "key = \"b\"\n",
    "d.pop(key, None)\n",
    "print(d)"
   ]
  },
  {
   "cell_type": "code",
   "execution_count": null,
   "metadata": {},
   "outputs": [
    {
     "data": {
      "text/plain": [
       "{}\n"
      ]
     },
     "metadata": {},
     "output_type": "display_data"
    }
   ],
   "source": [
    "# 8. Clear Dictionary: Create a new empty dictionary.\n",
    "d = {\"a\": 1, \"b\": 2, \"c\": 3}\n",
    "d.clear()\n",
    "print(d)"
   ]
  },
  {
   "cell_type": "code",
   "execution_count": null,
   "metadata": {},
   "outputs": [
    {
     "data": {
      "text/plain": [
       "it is empty\n"
      ]
     },
     "metadata": {},
     "output_type": "display_data"
    }
   ],
   "source": [
    "# 9. Check if Dictionary is Empty: Determine if a dictionary has any elements.\n",
    "d = {}\n",
    "if len(d) == 0:\n",
    "    print(\"it is empty\")\n",
    "else:\n",
    "    print(\"not empty\")"
   ]
  },
  {
   "cell_type": "code",
   "execution_count": null,
   "metadata": {},
   "outputs": [
    {
     "data": {
      "text/plain": [
       "('b', 2)\n"
      ]
     },
     "metadata": {},
     "output_type": "display_data"
    }
   ],
   "source": [
    "# 10. Get Key-Value Pair: Retrieve the key-value pair if the key exists.\n",
    "d = {\"a\": 1, \"b\": 2, \"c\": 3}\n",
    "key = \"b\"\n",
    "if key in d.keys():\n",
    "    print((key, d[key]))\n",
    "else:\n",
    "    print(\"Key doesnt exist\")"
   ]
  },
  {
   "cell_type": "code",
   "execution_count": null,
   "metadata": {},
   "outputs": [
    {
     "data": {
      "text/plain": [
       "{'a': 1, 'b': 5}\n"
      ]
     },
     "metadata": {},
     "output_type": "display_data"
    }
   ],
   "source": [
    "# 11. Update Value: Update the value for a specified key in the dictionary.\n",
    "d = {\"a\": 1, \"b\": 2}\n",
    "key = \"b\"\n",
    "new_value = 5\n",
    "d[key] = new_value\n",
    "print(d)"
   ]
  },
  {
   "cell_type": "code",
   "execution_count": null,
   "metadata": {},
   "outputs": [
    {
     "data": {
      "text/plain": [
       "2\n"
      ]
     },
     "metadata": {},
     "output_type": "display_data"
    }
   ],
   "source": [
    "# 12. Count Value Occurrences: Count how many times a specific value appears across the keys.\n",
    "d = {\"a\": 1, \"b\": 2, \"c\": 1}\n",
    "value1 = 1\n",
    "ctr = 0\n",
    "for value in d.values():\n",
    "    if value == value1:\n",
    "        ctr += 1\n",
    "print(ctr)"
   ]
  },
  {
   "cell_type": "code",
   "execution_count": null,
   "metadata": {},
   "outputs": [
    {
     "data": {
      "text/plain": [
       "{1: 'a', 2: 'b', 3: 'c'}\n"
      ]
     },
     "metadata": {},
     "output_type": "display_data"
    }
   ],
   "source": [
    "d = {\"a\": 1, \"b\": 2, \"c\": 3}\n",
    "print({k: v for v, k in d.items()})"
   ]
  },
  {
   "cell_type": "code",
   "execution_count": null,
   "metadata": {},
   "outputs": [
    {
     "data": {
      "text/plain": [
       "['a', 'c']\n"
      ]
     },
     "metadata": {},
     "output_type": "display_data"
    }
   ],
   "source": [
    "# 14. Find Keys with Value: Create a list of all keys that have a specific value.\n",
    "d = {\"a\": 1, \"b\": 2, \"c\": 1}\n",
    "value = 1\n",
    "list = []\n",
    "for key, val in d.items():\n",
    "    if val == value:\n",
    "        list.append(key)\n",
    "print(list)"
   ]
  },
  {
   "cell_type": "code",
   "execution_count": null,
   "metadata": {},
   "outputs": [
    {
     "data": {
      "text/plain": [
       "{'a': 1, 'b': 2, 'c': 3}\n"
      ]
     },
     "metadata": {},
     "output_type": "display_data"
    }
   ],
   "source": [
    "# 15. Create a Dictionary from Lists: Create a dictionary from two lists of keys and values.\n",
    "keys = [\"a\", \"b\", \"c\"]\n",
    "values = [1, 2, 3]\n",
    "print(dict(zip(keys, values)))"
   ]
  },
  {
   "cell_type": "code",
   "execution_count": null,
   "metadata": {},
   "outputs": [
    {
     "data": {
      "text/plain": [
       "There is dictionary\n"
      ]
     },
     "metadata": {},
     "output_type": "display_data"
    }
   ],
   "source": [
    "# 16. Check for Nested Dictionaries: Check if any values in a dictionary are also dictionaries.\n",
    "d = {\"a\": 1, \"b\": {\"nested\": 2}, \"c\": 3}\n",
    "for val in d.values():\n",
    "    if isinstance(val, dict):\n",
    "        print(\"There is dictionary\")\n",
    "        break\n",
    "        \n"
   ]
  },
  {
   "cell_type": "code",
   "execution_count": null,
   "metadata": {},
   "outputs": [
    {
     "data": {
      "text/plain": [
       "3\n"
      ]
     },
     "metadata": {},
     "output_type": "display_data"
    }
   ],
   "source": [
    "# 17. Get Nested Value: Retrieve a value from a nested dictionary.\n",
    "d = {\"a\": {\"nested\": 3}, \"b\": 3}\n",
    "key, nested_key = \"a\", \"nested\"\n",
    "print(d.get(key, {}).get(nested_key, \"Value not found\"))"
   ]
  },
  {
   "cell_type": "code",
   "execution_count": null,
   "metadata": {},
   "outputs": [],
   "source": [
    "from collections import defaultdict\n",
    "\n",
    "# Create a defaultdict with a default value of 0\n",
    "default_dict = defaultdict(lambda: 0)\n",
    "\n",
    "# Add some values\n",
    "default_dict[\"a\"] = 1\n",
    "default_dict[\"b\"] = 2\n",
    "\n",
    "# Access existing and missing keys\n",
    "print(default_dict[\"a\"]) \n",
    "print(default_dict[\"c\"]) "
   ]
  },
  {
   "cell_type": "code",
   "execution_count": null,
   "metadata": {},
   "outputs": [
    {
     "data": {
      "text/plain": [
       "2\n"
      ]
     },
     "metadata": {},
     "output_type": "display_data"
    }
   ],
   "source": [
    "d = {\"a\": 1, \"b\": 2, \"c\": 1}\n",
    "uninum = len(set(d.values()))\n",
    "print(uninum)"
   ]
  },
  {
   "cell_type": "code",
   "execution_count": null,
   "metadata": {},
   "outputs": [
    {
     "data": {
      "text/plain": [
       "{'a': 1, 'b': 2, 'c': 3}\n"
      ]
     },
     "metadata": {},
     "output_type": "display_data"
    }
   ],
   "source": [
    "# 20. Sort Dictionary by Key: Create a new dictionary sorted by keys.\n",
    "d = {\"c\": 3, \"a\": 1, \"b\": 2}\n",
    "diction = dict(sorted(d.items()))\n",
    "print(diction)"
   ]
  },
  {
   "cell_type": "code",
   "execution_count": null,
   "metadata": {},
   "outputs": [
    {
     "data": {
      "text/plain": [
       "{'b': 1, 'c': 2, 'a': 3}\n"
      ]
     },
     "metadata": {},
     "output_type": "display_data"
    }
   ],
   "source": [
    "# 21. Sort Dictionary by Value: Create a new dictionary sorted by values.\n",
    "import operator\n",
    "d = {\"a\": 3, \"b\": 1, \"c\": 2}\n",
    "\n",
    "# Sort and create a new dictionary\n",
    "sorted_dict = dict(sorted(d.items(), key=operator.itemgetter(1)))\n",
    "\n",
    "print(sorted_dict)"
   ]
  },
  {
   "cell_type": "code",
   "execution_count": null,
   "metadata": {},
   "outputs": [
    {
     "data": {
      "text/plain": [
       "{'b': 2, 'c': 3}\n"
      ]
     },
     "metadata": {},
     "output_type": "display_data"
    }
   ],
   "source": [
    "# 22. Filter by Value: Create a dictionary with items meeting a specific value condition.\n",
    "d = {\"a\": 1, \"b\": 2, \"c\": 3}\n",
    "diction = {key: val for key, val in d.items() if val > 1}\n",
    "print(diction)"
   ]
  },
  {
   "cell_type": "code",
   "execution_count": null,
   "metadata": {},
   "outputs": [
    {
     "data": {
      "text/plain": [
       "True\n"
      ]
     },
     "metadata": {},
     "output_type": "display_data"
    }
   ],
   "source": [
    "# 23. Check for Common Keys: Check if two dictionaries have any keys in common.\n",
    "d1 = {\"a\": 1, \"b\": 2}\n",
    "d2 = {\"b\": 3, \"c\": 4}\n",
    "result = bool(set(d1.keys()) & set(d2.keys()))\n",
    "print(result)"
   ]
  },
  {
   "cell_type": "code",
   "execution_count": null,
   "metadata": {},
   "outputs": [
    {
     "data": {
      "text/plain": [
       "{'a': 1, 'b': 2, 'c': 3}\n"
      ]
     },
     "metadata": {},
     "output_type": "display_data"
    }
   ],
   "source": [
    "# 24. Create Dictionary from Tuple: Create a dictionary from a tuple of key-value pairs.\n",
    "t = ((\"a\", 1), (\"b\", 2), (\"c\", 3))\n",
    "diction = dict(t)\n",
    "print(diction)"
   ]
  },
  {
   "cell_type": "code",
   "execution_count": null,
   "metadata": {},
   "outputs": [
    {
     "data": {
      "text/plain": [
       "key is:  a\n",
       "value is:  1\n"
      ]
     },
     "metadata": {},
     "output_type": "display_data"
    }
   ],
   "source": [
    "#25\n",
    "d = {\"a\": 1, \"b\": 2, \"c\": 3}\n",
    "for key, value in d.items():\n",
    "    print(\"key is: \", key)\n",
    "    print(\"value is: \", value)\n",
    "    break"
   ]
  }
 ],
 "metadata": {
  "language_info": {
   "name": "python"
  }
 },
 "nbformat": 4,
 "nbformat_minor": 2
}
