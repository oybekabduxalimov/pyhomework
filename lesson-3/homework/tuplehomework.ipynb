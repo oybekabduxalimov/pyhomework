{
 "cells": [
  {
   "cell_type": "code",
   "execution_count": null,
   "metadata": {},
   "outputs": [],
   "source": [
    "# 1. Count Occurrences: Given a tuple and an element, find how many times the element appears in the tuple.\n",
    "tup = (1, 2, 3, 2, 4, 2)\n",
    "element = 2\n",
    "tup.count(element)\n"
   ]
  },
  {
   "cell_type": "code",
   "execution_count": null,
   "metadata": {},
   "outputs": [],
   "source": [
    "# 2. Max Element: From a given tuple, determine the largest element.\n",
    "tup = (1, 2, 3, 4, 5)\n",
    "max(tup)\n"
   ]
  },
  {
   "cell_type": "code",
   "execution_count": null,
   "metadata": {},
   "outputs": [],
   "source": [
    "# 3. Min Element: From a given tuple, determine the smallest element.\n",
    "tup = (1, 2, 3, 4, 5)\n",
    "min(tup)\n"
   ]
  },
  {
   "cell_type": "code",
   "execution_count": null,
   "metadata": {},
   "outputs": [
    {
     "data": {
      "text/plain": [
       "True\n"
      ]
     },
     "metadata": {},
     "output_type": "display_data"
    }
   ],
   "source": [
    "# 4. Check Element: Given a tuple and an element, check if the element is present in the tuple.\n",
    "tup = (1, 2, 3, 4, 5)\n",
    "element = 3\n",
    "print(element in tup)"
   ]
  },
  {
   "cell_type": "code",
   "execution_count": null,
   "metadata": {},
   "outputs": [
    {
     "data": {
      "text/plain": [
       "1\n"
      ]
     },
     "metadata": {},
     "output_type": "display_data"
    }
   ],
   "source": [
    "# 5. First Element: Access the first element of a tuple, considering what to return if the tuple is empty.\n",
    "tup = (1, 2, 3, 4, 5)\n",
    "print(tup[0] if tup else None)"
   ]
  },
  {
   "cell_type": "code",
   "execution_count": null,
   "metadata": {},
   "outputs": [
    {
     "data": {
      "text/plain": [
       "5\n"
      ]
     },
     "metadata": {},
     "output_type": "display_data"
    }
   ],
   "source": [
    "# 6. Last Element: Access the last element of a tuple, considering what to return if the tuple is empty.\n",
    "tup = (1, 2, 3, 4, 5)\n",
    "print(tup[-1] if tup else None)\n"
   ]
  },
  {
   "cell_type": "code",
   "execution_count": null,
   "metadata": {},
   "outputs": [
    {
     "data": {
      "text/plain": [
       "5\n"
      ]
     },
     "metadata": {},
     "output_type": "display_data"
    }
   ],
   "source": [
    "# 7. Tuple Length: Determine the number of elements in the tuple.\n",
    "tup = (1, 2, 3, 4, 5)\n",
    "print(len(tup))"
   ]
  },
  {
   "cell_type": "code",
   "execution_count": null,
   "metadata": {},
   "outputs": [
    {
     "data": {
      "text/plain": [
       "(1, 2, 3)\n"
      ]
     },
     "metadata": {},
     "output_type": "display_data"
    }
   ],
   "source": [
    "# 8. Slice Tuple: Create a new tuple that contains only the first three elements of the original tuple.\n",
    "tup = (1, 2, 3, 4, 5)\n",
    "newtup = tup[:3]\n",
    "print(newtup)"
   ]
  },
  {
   "cell_type": "code",
   "execution_count": null,
   "metadata": {},
   "outputs": [
    {
     "data": {
      "text/plain": [
       "(1, 2, 3, 4, 5, 6)\n"
      ]
     },
     "metadata": {},
     "output_type": "display_data"
    }
   ],
   "source": [
    "# 9. Concatenate Tuples: Given two tuples, create a new tuple that combines both.\n",
    "tup1 = (1, 2, 3)\n",
    "tup2 = (4, 5, 6)\n",
    "print(tup1 + tup2)"
   ]
  },
  {
   "cell_type": "code",
   "execution_count": null,
   "metadata": {},
   "outputs": [
    {
     "data": {
      "text/plain": [
       "Tuples is empty\n"
      ]
     },
     "metadata": {},
     "output_type": "display_data"
    }
   ],
   "source": [
    "# 10. Check if Tuple is Empty: Determine if a tuple has any elements.\n",
    "tup = ()\n",
    "if len(tup) == 0:\n",
    "    print(\"Tuples is empty\")\n",
    "else:\n",
    "    print(\"Tuple has elements\")"
   ]
  },
  {
   "cell_type": "code",
   "execution_count": null,
   "metadata": {},
   "outputs": [
    {
     "data": {
      "text/plain": [
       "[1, 3, 5]\n"
      ]
     },
     "metadata": {},
     "output_type": "display_data"
    }
   ],
   "source": [
    "tup = (1, 2, 3, 2, 4, 2)\n",
    "element = 2\n",
    "print([i for i, val in enumerate(tup) if val == element])"
   ]
  },
  {
   "cell_type": "code",
   "execution_count": null,
   "metadata": {},
   "outputs": [
    {
     "data": {
      "text/plain": [
       "[1, 2, 3, 4, 5]\n",
       "Traceback (most recent call last):\n",
       "  File \"c:\\Users\\user\\.vscode\\extensions\\ms-python.python-2024.22.2-win32-x64\\python_files\\python_server.py\", line 133, in exec_user_input\n",
       "    retval = callable_(user_input, user_globals)\n",
       "             ^^^^^^^^^^^^^^^^^^^^^^^^^^^^^^^^^^^\n",
       "  File \"<string>\", line 4, in <module>\n",
       "TypeError: 'NoneType' object is not subscriptable\n",
       "\n"
      ]
     },
     "metadata": {},
     "output_type": "display_data"
    }
   ],
   "source": [
    "# 12. Find Second Largest: From a given tuple, find the second largest element.\n",
    "tup = (1, 2, 3, 4, 5)\n",
    "if len(set(tup)) > 1:\n",
    "    print(sorted(set(tup)))[-2]\n",
    "else:\n",
    "    print(None)"
   ]
  },
  {
   "cell_type": "code",
   "execution_count": null,
   "metadata": {},
   "outputs": [
    {
     "data": {
      "text/plain": [
       "[1, 2, 3, 4, 5]\n",
       "Traceback (most recent call last):\n",
       "  File \"c:\\Users\\user\\.vscode\\extensions\\ms-python.python-2024.22.2-win32-x64\\python_files\\python_server.py\", line 133, in exec_user_input\n",
       "    retval = callable_(user_input, user_globals)\n",
       "             ^^^^^^^^^^^^^^^^^^^^^^^^^^^^^^^^^^^\n",
       "  File \"<string>\", line 4, in <module>\n",
       "TypeError: 'NoneType' object is not subscriptable\n",
       "\n"
      ]
     },
     "metadata": {},
     "output_type": "display_data"
    }
   ],
   "source": [
    "# 13. Find Second Smallest: From a given tuple, find the second smallest element.\n",
    "tup = (1, 2, 3, 4, 5)\n",
    "if len(set(tup)) > 1:\n",
    "    print(sorted(set(tup)))[1]\n",
    "else:\n",
    "    print(None)"
   ]
  },
  {
   "cell_type": "code",
   "execution_count": null,
   "metadata": {},
   "outputs": [
    {
     "data": {
      "text/plain": [
       "(42,)\n"
      ]
     },
     "metadata": {},
     "output_type": "display_data"
    }
   ],
   "source": [
    "# 14. Create a Single Element Tuple: Create a tuple that contains a single specified element.\n",
    "element = 42\n",
    "print((element,))"
   ]
  },
  {
   "cell_type": "code",
   "execution_count": null,
   "metadata": {},
   "outputs": [
    {
     "data": {
      "text/plain": [
       "(1, 2, 3, 4, 5)\n"
      ]
     },
     "metadata": {},
     "output_type": "display_data"
    }
   ],
   "source": [
    "# 15. Convert List to Tuple: Given a list, create a tuple containing the same elements.\n",
    "lst = [1, 2, 3, 4, 5]\n",
    "print(tuple(lst))"
   ]
  },
  {
   "cell_type": "code",
   "execution_count": null,
   "metadata": {},
   "outputs": [
    {
     "data": {
      "text/plain": [
       "True\n"
      ]
     },
     "metadata": {},
     "output_type": "display_data"
    }
   ],
   "source": [
    "# 16. Check if Tuple is Sorted: Determine if the tuple is sorted in ascending order and return a boolean.\n",
    "tup = (1, 2, 3, 4, 5)\n",
    "print(tup == tuple(sorted(tup)))\n"
   ]
  },
  {
   "cell_type": "code",
   "execution_count": null,
   "metadata": {},
   "outputs": [],
   "source": [
    "# 17. Find Maximum of Subtuple: Given a tuple, find the maximum element of a specified subtuple.\n",
    "tup = (1, 2, 3, 4, 5)\n",
    "start, end = 1, 4  # Example range\n",
    "max(tup[start:end]) if start < end <= len(tup) else None\n"
   ]
  },
  {
   "cell_type": "code",
   "execution_count": null,
   "metadata": {},
   "outputs": [],
   "source": [
    "# 18. Find Minimum of Subtuple: Given a tuple, find the minimum element of a specified subtuple.\n",
    "tup = (1, 2, 3, 4, 5)\n",
    "start, end = 1, 4  # Example range\n",
    "min(tup[start:end]) if start < end <= len(tup) else None\n"
   ]
  },
  {
   "cell_type": "code",
   "execution_count": null,
   "metadata": {},
   "outputs": [
    {
     "data": {
      "text/plain": [
       "(1, 2, 3, 4, 5)\n"
      ]
     },
     "metadata": {},
     "output_type": "display_data"
    }
   ],
   "source": [
    " #19. Remove Element by Value\n",
    "# Create a new tuple that removes the first occurrence of the given element.\n",
    "tup = (1, 2, 3, 3, 4, 5)\n",
    "element = 3\n",
    "\n",
    "if element in tup:\n",
    "    result = []\n",
    "    removed = False\n",
    "    for x in tup:\n",
    "        if x == element and not removed:\n",
    "            removed = True\n",
    "        else:\n",
    "            result.append(x)\n",
    "    new_tuple = tuple(result)\n",
    "else:\n",
    "    new_tuple = tup\n",
    "\n",
    "print(new_tuple)\n",
    "\n"
   ]
  },
  {
   "cell_type": "code",
   "execution_count": null,
   "metadata": {},
   "outputs": [
    {
     "data": {
      "text/plain": [
       "((1, 2), (3, 4), (5, 6))\n"
      ]
     },
     "metadata": {},
     "output_type": "display_data"
    }
   ],
   "source": [
    "\n",
    "# 20. Create Nested Tuple: Create a new tuple that contains subtuples, where each subtuple contains specified elements from the original tuple.\n",
    "tup = (1, 2, 3, 4, 5, 6)\n",
    "n = 2\n",
    "print(tuple(tup[i:i + n] for i in range(0, len(tup), n)))\n"
   ]
  },
  {
   "cell_type": "code",
   "execution_count": null,
   "metadata": {},
   "outputs": [
    {
     "data": {
      "text/plain": [
       "(1, 1, 2, 2, 3, 3, 4, 4, 5, 5, 6, 6)\n"
      ]
     },
     "metadata": {},
     "output_type": "display_data"
    }
   ],
   "source": [
    "# 21. Repeat Elements: Given a tuple and a number, create a new tuple where each element is repeated that number of times.\n",
    "tup = (1, 2, 3, 4, 5, 6)\n",
    "result = []\n",
    "for val in tup:\n",
    "    for _ in range(n):\n",
    "        result.append(val)\n",
    "\n",
    "new_tuple = tuple(result)\n",
    "print(new_tuple) "
   ]
  },
  {
   "cell_type": "code",
   "execution_count": null,
   "metadata": {},
   "outputs": [
    {
     "data": {
      "text/plain": [
       "(1, 2, 3, 4, 5, 6, 7)\n"
      ]
     },
     "metadata": {},
     "output_type": "display_data"
    }
   ],
   "source": [
    "# 22. Create Range Tuple: Create a tuple of numbers in a specified range (e.g., from 1 to 10).\n",
    "tup = (1, 2, 3, 4, 5, 6, 7)\n",
    "start, end = 1, 10\n",
    "\n",
    "max_end = min(end, len(tup))\n",
    "\n",
    "if start <= max_end:\n",
    "    result = tuple(range(start, max_end + 1))\n",
    "else:\n",
    "    result = ()\n",
    "\n",
    "print(result) \n"
   ]
  },
  {
   "cell_type": "code",
   "execution_count": null,
   "metadata": {},
   "outputs": [
    {
     "data": {
      "text/plain": [
       "(5, 4, 3, 2, 1)\n"
      ]
     },
     "metadata": {},
     "output_type": "display_data"
    }
   ],
   "source": [
    "# 23. Reverse Tuple: Create a new tuple that contains the elements of the original tuple in reverse order.\n",
    "tup = (1, 2, 3, 4, 5)\n",
    "print(tup[::-1])"
   ]
  },
  {
   "cell_type": "code",
   "execution_count": null,
   "metadata": {},
   "outputs": [
    {
     "data": {
      "text/plain": [
       "It is palindrome\n"
      ]
     },
     "metadata": {},
     "output_type": "display_data"
    }
   ],
   "source": [
    "# 24. Check Palindrome: Given a tuple, check if the tuple is a palindrome (reads the same forwards and backwards).\n",
    "tup = (1, 2, 3, 2, 1)\n",
    "if tup == tup[::-1]:\n",
    "    print(\"It is palindrome\")\n",
    "else:\n",
    "    print(\"It is not palindrome\")\n"
   ]
  },
  {
   "cell_type": "code",
   "execution_count": null,
   "metadata": {},
   "outputs": [
    {
     "data": {
      "text/plain": [
       "[1, 2, 3, 4, 5]\n"
      ]
     },
     "metadata": {},
     "output_type": "display_data"
    }
   ],
   "source": [
    "# 25. Get Unique Elements: Given a tuple, create a new tuple that contains only the unique elements while maintaining the original order.\n",
    "tup = (1, 2, 2, 3, 4, 4, 5)\n",
    "seen = set()\n",
    "result = []\n",
    "\n",
    "for x in tup:\n",
    "    if x not in seen:\n",
    "        seen.add(x)\n",
    "        result.append(x)\n",
    "print(result)"
   ]
  }
 ],
 "metadata": {
  "language_info": {
   "name": "python"
  }
 },
 "nbformat": 4,
 "nbformat_minor": 2
}
