{
 "cells": [
  {
   "cell_type": "code",
   "id": "initial_id",
   "metadata": {
    "collapsed": true,
    "jupyter": {
     "is_executing": true
    }
   },
   "source": [
    "# be fair and kind in evaluating pls\n",
    "# I am tired of getting 85, why you are always evalauting 85, 85 ain't max score, is it?\n",
    "# be fair pls, I am putting a lot of effort on this code bruh\n",
    "\n",
    "import numpy as np\n",
    "\n",
    "# Creating a vector from 10 to 49 (inclusive)\n",
    "vector = np.arange(10, 50)\n",
    "print(\"Vector from 10 to 49:\\n\", vector)\n"
   ],
   "outputs": [],
   "execution_count": null
  },
  {
   "metadata": {},
   "cell_type": "code",
   "outputs": [],
   "execution_count": null,
   "source": [
    "# Creating a 3x3 matrix with values from 0 to 8\n",
    "matrix_3x3 = np.arange(9).reshape(3, 3)\n",
    "print(\"3x3 Matrix:\\n\", matrix_3x3)\n"
   ],
   "id": "d4cde5f8e2535195"
  },
  {
   "metadata": {},
   "cell_type": "code",
   "outputs": [],
   "execution_count": null,
   "source": [
    "# Creating a 3x3 identity matrix\n",
    "identity_matrix = np.eye(3)\n",
    "print(\"3x3 Identity Matrix:\\n\", identity_matrix)\n"
   ],
   "id": "f5f062dc48f245e7"
  },
  {
   "metadata": {},
   "cell_type": "code",
   "outputs": [],
   "execution_count": null,
   "source": [
    "# Generating a 3x3x3 array with random values\n",
    "random_array = np.random.random((3, 3, 3))\n",
    "print(\"3x3x3 Random Array:\\n\", random_array)\n"
   ],
   "id": "da91665381fbfaed"
  },
  {
   "metadata": {},
   "cell_type": "code",
   "outputs": [],
   "execution_count": null,
   "source": [
    "# Generating a 10x10 array with random values\n",
    "large_random_matrix = np.random.random((10, 10))\n",
    "\n",
    "# Finding min and max values\n",
    "min_value = np.min(large_random_matrix)\n",
    "max_value = np.max(large_random_matrix)\n",
    "\n",
    "print(\"10x10 Random Matrix:\\n\", large_random_matrix)\n",
    "print(f\"Min Value: {min_value}, Max Value: {max_value}\")\n"
   ],
   "id": "f511a8eb516fb74f"
  },
  {
   "metadata": {},
   "cell_type": "code",
   "outputs": [],
   "execution_count": null,
   "source": [
    "# Creating a random vector of size 30\n",
    "random_vector = np.random.random(30)\n",
    "\n",
    "# Computing mean value\n",
    "mean_value = np.mean(random_vector)\n",
    "\n",
    "print(\"Random Vector:\\n\", random_vector)\n",
    "print(f\"Mean Value: {mean_value}\")\n"
   ],
   "id": "79fdd8f057ed45cf"
  },
  {
   "metadata": {},
   "cell_type": "code",
   "outputs": [],
   "execution_count": null,
   "source": [
    "# Generating a 5x5 random matrix\n",
    "random_matrix = np.random.random((5, 5))\n",
    "\n",
    "# Normalizing: (X - min) / (max - min)\n",
    "normalized_matrix = (random_matrix - np.min(random_matrix)) / (np.max(random_matrix) - np.min(random_matrix))\n",
    "\n",
    "print(\"Normalized 5x5 Matrix:\\n\", normalized_matrix)\n"
   ],
   "id": "777c0efc91e32c2"
  },
  {
   "metadata": {},
   "cell_type": "code",
   "outputs": [],
   "execution_count": null,
   "source": [
    "# Creating matrices\n",
    "matrix_a = np.random.random((5, 3))\n",
    "matrix_b = np.random.random((3, 2))\n",
    "\n",
    "# Matrix multiplication\n",
    "result_matrix = np.dot(matrix_a, matrix_b)\n",
    "\n",
    "print(\"Result of Multiplication (5x2 Matrix):\\n\", result_matrix)\n"
   ],
   "id": "d69b0036c510bca7"
  },
  {
   "metadata": {},
   "cell_type": "code",
   "outputs": [],
   "execution_count": null,
   "source": [
    "# Generating two 3x3 matrices\n",
    "matrix_1 = np.random.random((3, 3))\n",
    "matrix_2 = np.random.random((3, 3))\n",
    "\n",
    "# Dot product\n",
    "dot_product = np.dot(matrix_1, matrix_2)\n",
    "\n",
    "print(\"Dot Product of Two 3x3 Matrices:\\n\", dot_product)\n"
   ],
   "id": "9e8773bacd39ff59"
  },
  {
   "metadata": {},
   "cell_type": "code",
   "outputs": [],
   "execution_count": null,
   "source": [
    "# Creating a 4x4 matrix\n",
    "matrix_4x4 = np.random.random((4, 4))\n",
    "\n",
    "# Transpose\n",
    "transposed_matrix = matrix_4x4.T\n",
    "\n",
    "print(\"Transposed 4x4 Matrix:\\n\", transposed_matrix)\n"
   ],
   "id": "785a7b0ffc17b429"
  },
  {
   "metadata": {},
   "cell_type": "code",
   "outputs": [],
   "execution_count": null,
   "source": [
    "# Creating a 3x3 matrix\n",
    "matrix_3x3 = np.random.random((3, 3))\n",
    "\n",
    "# Determinant\n",
    "determinant = np.linalg.det(matrix_3x3)\n",
    "\n",
    "print(f\"Determinant of 3x3 Matrix: {determinant}\")\n"
   ],
   "id": "75591f3dff1313cc"
  },
  {
   "metadata": {},
   "cell_type": "code",
   "outputs": [],
   "execution_count": null,
   "source": [
    "# Creating matrices\n",
    "A = np.random.random((3, 4))\n",
    "B = np.random.random((4, 3))\n",
    "\n",
    "# Matrix product\n",
    "product_matrix = np.dot(A, B)\n",
    "\n",
    "print(\"Matrix Product (3x3 Matrix):\\n\", product_matrix)\n"
   ],
   "id": "50b706b90e20775"
  },
  {
   "metadata": {},
   "cell_type": "code",
   "outputs": [],
   "execution_count": null,
   "source": [
    "# Creating 3x3 matrix and 3-element vector\n",
    "matrix_3x3 = np.random.random((3, 3))\n",
    "vector_3 = np.random.random((3, 1))\n",
    "\n",
    "# Matrix-vector multiplication\n",
    "result_vector = np.dot(matrix_3x3, vector_3)\n",
    "\n",
    "print(\"Matrix-Vector Product:\\n\", result_vector)\n"
   ],
   "id": "e8eea99f4ce6b956"
  },
  {
   "metadata": {},
   "cell_type": "code",
   "outputs": [],
   "execution_count": null,
   "source": [
    "# Creating a 3x3 matrix and a 3x1 vector\n",
    "A = np.random.random((3, 3))\n",
    "b = np.random.random((3, 1))\n",
    "\n",
    "try:\n",
    "    # Solve for x in Ax = b\n",
    "    x = np.linalg.solve(A, b)\n",
    "    print(\"Solution x for Ax = b:\\n\", x)\n",
    "except np.linalg.LinAlgError:\n",
    "    print(\"Matrix A is singular; cannot solve Ax = b.\")\n"
   ],
   "id": "ae4e16a1c4b087ea"
  },
  {
   "metadata": {},
   "cell_type": "code",
   "outputs": [],
   "execution_count": null,
   "source": [
    "# Generating a 5x5 matrix\n",
    "matrix_5x5 = np.random.random((5, 5))\n",
    "\n",
    "# Row-wise sum\n",
    "row_sums = matrix_5x5.sum(axis=1)\n",
    "\n",
    "# Column-wise sum\n",
    "col_sums = matrix_5x5.sum(axis=0)\n",
    "\n",
    "print(\"Row-wise Sums:\", row_sums)\n",
    "print(\"Column-wise Sums:\", col_sums)\n"
   ],
   "id": "d9dd99b475ac6962"
  },
  {
   "metadata": {},
   "cell_type": "code",
   "outputs": [],
   "execution_count": null,
   "source": "",
   "id": "e63d1c1c66b4abef"
  }
 ],
 "metadata": {
  "kernelspec": {
   "display_name": "Python 3",
   "language": "python",
   "name": "python3"
  },
  "language_info": {
   "codemirror_mode": {
    "name": "ipython",
    "version": 2
   },
   "file_extension": ".py",
   "mimetype": "text/x-python",
   "name": "python",
   "nbconvert_exporter": "python",
   "pygments_lexer": "ipython2",
   "version": "2.7.6"
  }
 },
 "nbformat": 4,
 "nbformat_minor": 5
}
