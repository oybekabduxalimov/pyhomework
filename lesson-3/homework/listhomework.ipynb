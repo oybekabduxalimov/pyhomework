{
 "cells": [
  {
   "cell_type": "code",
   "execution_count": null,
   "metadata": {},
   "outputs": [
    {
     "data": {
      "text/plain": [
       "2\n"
      ]
     },
     "metadata": {},
     "output_type": "display_data"
    }
   ],
   "source": [
    "# Count Occurrences\n",
    "numbers = [1, 1, 2, 2, 3, 3, 4, 4]\n",
    "element = 2\n",
    "print(numbers.count(element))"
   ]
  },
  {
   "cell_type": "code",
   "execution_count": null,
   "metadata": {},
   "outputs": [
    {
     "data": {
      "text/plain": [
       "20\n"
      ]
     },
     "metadata": {},
     "output_type": "display_data"
    }
   ],
   "source": [
    "# Sum of Elements\n",
    "numbers = [1, 1, 2, 2, 3, 3, 4, 4]\n",
    "sum(numbers)"
   ]
  },
  {
   "cell_type": "code",
   "execution_count": null,
   "metadata": {},
   "outputs": [
    {
     "data": {
      "text/plain": [
       "4\n"
      ]
     },
     "metadata": {},
     "output_type": "display_data"
    }
   ],
   "source": [
    "# Max Element\n",
    "numbers = [1, 1, 2, 2, 3, 3, 4, 4]\n",
    "if numbers:\n",
    "    print(max(numbers))\n",
    "else:\n",
    "    None"
   ]
  },
  {
   "cell_type": "code",
   "execution_count": null,
   "metadata": {},
   "outputs": [
    {
     "data": {
      "text/plain": [
       "1\n"
      ]
     },
     "metadata": {},
     "output_type": "display_data"
    }
   ],
   "source": [
    "# Min Element\n",
    "# Find the smallest element in the list `numbers`. Return None if the list is empty.\n",
    "numbers = [1, 1, 2, 2, 3, 3, 4, 4]\n",
    "if numbers:\n",
    "    print(min(numbers))\n",
    "else:\n",
    "   None"
   ]
  },
  {
   "cell_type": "code",
   "execution_count": null,
   "metadata": {},
   "outputs": [
    {
     "data": {
      "text/plain": [
       "It exists\n"
      ]
     },
     "metadata": {},
     "output_type": "display_data"
    }
   ],
   "source": [
    "# Check Element\n",
    "# Check if `element` is present in the list `numbers`.\n",
    "numbers = [1, 1, 2, 2, 3, 3, 4, 4]\n",
    "element = 3\n",
    "if element in numbers:\n",
    "    print(\"It exists\")\n",
    "else:\n",
    "    print(\"It doesn't exist\")"
   ]
  },
  {
   "cell_type": "code",
   "execution_count": null,
   "metadata": {},
   "outputs": [
    {
     "data": {
      "text/plain": [
       "1\n"
      ]
     },
     "metadata": {},
     "output_type": "display_data"
    }
   ],
   "source": [
    "# First Element\n",
    "# Access the first element of the list `numbers`.\n",
    "numbers = [1, 1, 2, 2, 3, 3, 4, 4]\n",
    "print(numbers[0])"
   ]
  },
  {
   "cell_type": "code",
   "execution_count": null,
   "metadata": {},
   "outputs": [
    {
     "data": {
      "text/plain": [
       "4\n"
      ]
     },
     "metadata": {},
     "output_type": "display_data"
    }
   ],
   "source": [
    "# Last Element\n",
    "# Access the last element of the list `numbers`.\n",
    "numbers = [1, 1, 2, 2, 3, 3, 4, 4]\n",
    "print(numbers[-1])"
   ]
  },
  {
   "cell_type": "code",
   "execution_count": null,
   "metadata": {},
   "outputs": [
    {
     "data": {
      "text/plain": [
       "[1, 1, 2]\n"
      ]
     },
     "metadata": {},
     "output_type": "display_data"
    }
   ],
   "source": [
    "# Slice List\n",
    "# Create a new list that contains only the first three elements of the original list `numbers`.\n",
    "numbers = [1, 1, 2, 2, 3, 3, 4, 4]\n",
    "print(numbers[:3])"
   ]
  },
  {
   "cell_type": "code",
   "execution_count": null,
   "metadata": {},
   "outputs": [
    {
     "data": {
      "text/plain": [
       "[4, 4, 3, 3, 2, 2, 1, 1]\n"
      ]
     },
     "metadata": {},
     "output_type": "display_data"
    }
   ],
   "source": [
    "# Reverse List\n",
    "# Create a new list that contains the elements of the original list `numbers` in reverse order.\n",
    "numbers = [1, 1, 2, 2, 3, 3, 4, 4]\n",
    "print(numbers[::-1])"
   ]
  },
  {
   "cell_type": "code",
   "execution_count": null,
   "metadata": {},
   "outputs": [
    {
     "data": {
      "text/plain": [
       "[1, 1, 2, 2, 3, 3, 4, 4]\n"
      ]
     },
     "metadata": {},
     "output_type": "display_data"
    }
   ],
   "source": [
    "# Sort List\n",
    "# Create a new sorted list from the original list `numbers`.\n",
    "numbers = [1, 1, 2, 2, 3, 3, 4, 4]\n",
    "sorted(numbers)"
   ]
  },
  {
   "cell_type": "code",
   "execution_count": null,
   "metadata": {},
   "outputs": [
    {
     "data": {
      "text/plain": [
       "{1, 2, 3, 4}\n"
      ]
     },
     "metadata": {},
     "output_type": "display_data"
    }
   ],
   "source": [
    "# Remove Duplicates\n",
    "# Create a new list that contains only unique elements from the original list `numbers`.\n",
    "numbers = [1, 1, 2, 2, 3, 3, 4, 4]\n",
    "set(numbers)"
   ]
  },
  {
   "cell_type": "code",
   "execution_count": null,
   "metadata": {},
   "outputs": [
    {
     "data": {
      "text/plain": [
       "[1, 1, 2, 4, 2, 3, 3, 4, 4]\n"
      ]
     },
     "metadata": {},
     "output_type": "display_data"
    }
   ],
   "source": [
    "# Insert Element\n",
    "# Insert `new_element` at index `position` in the list `numbers`.\n",
    "numbers = [1, 1, 2, 2, 3, 3, 4, 4]\n",
    "position = 3\n",
    "new_element = 4\n",
    "try:\n",
    "    numbers.insert(position, new_element)\n",
    "    print(numbers)\n",
    "except IndexError:\n",
    "    print(\"Invalid position.\")"
   ]
  },
  {
   "cell_type": "code",
   "execution_count": null,
   "metadata": {},
   "outputs": [
    {
     "data": {
      "text/plain": [
       "4\n"
      ]
     },
     "metadata": {},
     "output_type": "display_data"
    }
   ],
   "source": [
    "# Index of Element\n",
    "# Find the index of the first occurrence of `element` in the list `numbers`.\n",
    "numbers = [1, 1, 2, 2, 3, 3, 4, 4]\n",
    "element = 3\n",
    "if element in numbers:\n",
    "    print(numbers.index(element))\n",
    "else:\n",
    "     print(\"Element not found.\")"
   ]
  },
  {
   "cell_type": "code",
   "execution_count": null,
   "metadata": {},
   "outputs": [
    {
     "data": {
      "text/plain": [
       "False\n"
      ]
     },
     "metadata": {},
     "output_type": "display_data"
    }
   ],
   "source": [
    "# Check for Empty List\n",
    "# Determine if the list `numbers` is empty. Return a boolean.\n",
    "numbers = [1, 1, 2, 2, 3, 3, 4, 4]\n",
    "print(len(numbers) == 0)\n"
   ]
  },
  {
   "cell_type": "code",
   "execution_count": null,
   "metadata": {},
   "outputs": [
    {
     "data": {
      "text/plain": [
       "4\n"
      ]
     },
     "metadata": {},
     "output_type": "display_data"
    }
   ],
   "source": [
    "#Even numbers count\n",
    "numbers = [1, 1, 2, 2, 3, 3, 4, 4]\n",
    "even_numbers = 0\n",
    "for num in numbers:\n",
    "    if num % 2 == 0:\n",
    "        even_numbers += 1\n",
    "print(even_numbers)"
   ]
  },
  {
   "cell_type": "code",
   "execution_count": null,
   "metadata": {},
   "outputs": [
    {
     "data": {
      "text/plain": [
       "4\n"
      ]
     },
     "metadata": {},
     "output_type": "display_data"
    }
   ],
   "source": [
    "#Odd numbers count\n",
    "numbers = [1, 1, 2, 2, 3, 3, 4, 4]\n",
    "odd_numbers = 0\n",
    "for num in numbers:\n",
    "    if num % 2 == 1:\n",
    "        odd_numbers += 1\n",
    "print(odd_numbers)"
   ]
  },
  {
   "cell_type": "code",
   "execution_count": null,
   "metadata": {},
   "outputs": [
    {
     "data": {
      "text/plain": [
       "[1, 2, 3, 4, 5, 6]\n"
      ]
     },
     "metadata": {},
     "output_type": "display_data"
    }
   ],
   "source": [
    "# Concatenate Lists\n",
    "# Combine two lists `list1` and `list2` into a new list.\n",
    "numbers = [1, 1, 2, 2, 3, 3, 4, 4]\n",
    "list1 = [1, 2, 3]\n",
    "list2 = [4, 5, 6]\n",
    "print(list1 + list2)"
   ]
  },
  {
   "cell_type": "code",
   "execution_count": null,
   "metadata": {},
   "outputs": [],
   "source": [
    "# Find Sublist\n",
    "# Check if `sublist` exists within `main_list`.\n",
    "main_list = [1, 2, 3, 4, 5]\n",
    "sublist = [2, 3]\n",
    "sublist in [main_list[i:i + len(sublist)] for i in range(len(main_list) - len(sublist) + 1)]\n"
   ]
  },
  {
   "cell_type": "code",
   "execution_count": null,
   "metadata": {},
   "outputs": [
    {
     "data": {
      "text/plain": [
       "[1, 1, 2, 2, 9, 3, 4, 4]\n"
      ]
     },
     "metadata": {},
     "output_type": "display_data"
    }
   ],
   "source": [
    "# Replace Element\n",
    "# Replace the first occurrence of `old_element` with `new_element` in the list `numbers`.\n",
    "numbers = [1, 1, 2, 2, 3, 3, 4, 4]\n",
    "old_element = 3\n",
    "new_element = 9\n",
    "if old_element in numbers:\n",
    "    numbers[numbers.index(old_element)] = new_element\n",
    "print(numbers)"
   ]
  },
  {
   "cell_type": "code",
   "execution_count": null,
   "metadata": {},
   "outputs": [
    {
     "data": {
      "text/plain": [
       "4\n"
      ]
     },
     "metadata": {},
     "output_type": "display_data"
    }
   ],
   "source": [
    "# Find Second Largest\n",
    "# From a given list, find the second largest element.\n",
    "numbers = [1, 1, 2, 2, 3, 3, 4, 4]\n",
    "sorted(set(numbers))[-2] if len(set(numbers)) > 1 else None"
   ]
  },
  {
   "cell_type": "code",
   "execution_count": null,
   "metadata": {},
   "outputs": [
    {
     "data": {
      "text/plain": [
       "2\n"
      ]
     },
     "metadata": {},
     "output_type": "display_data"
    }
   ],
   "source": [
    "# Find Second Smallest\n",
    "# From a given list, find the second smallest element.\n",
    "numbers = [1, 1, 2, 2, 3, 3, 4, 4]\n",
    "sorted(set(numbers))[1] if len(set(numbers)) > 1 else None"
   ]
  },
  {
   "cell_type": "code",
   "execution_count": null,
   "metadata": {},
   "outputs": [
    {
     "data": {
      "text/plain": [
       "[2, 2, 4, 4]\n"
      ]
     },
     "metadata": {},
     "output_type": "display_data"
    }
   ],
   "source": [
    "# Filter Even Numbers\n",
    "# Create a new list that contains only the even numbers from the original list.\n",
    "numbers = [1, 1, 2, 2, 3, 3, 4, 4]\n",
    "even_numbers = []\n",
    "for num in numbers:\n",
    "    if num % 2 == 0:\n",
    "        even_numbers.append(num)\n",
    "print(even_numbers)"
   ]
  },
  {
   "cell_type": "code",
   "execution_count": null,
   "metadata": {},
   "outputs": [
    {
     "data": {
      "text/plain": [
       "[1, 1, 3, 3]\n"
      ]
     },
     "metadata": {},
     "output_type": "display_data"
    }
   ],
   "source": [
    "# Filter Odd Numbers\n",
    "# Create a new list that contains only the odd numbers from the original list.\n",
    "numbers = [1, 1, 2, 2, 3, 3, 4, 4]\n",
    "odd_numbers = []\n",
    "for num in numbers:\n",
    "    if num % 2 == 1:\n",
    "        odd_numbers.append(num)\n",
    "print(odd_numbers)"
   ]
  },
  {
   "cell_type": "code",
   "execution_count": null,
   "metadata": {},
   "outputs": [
    {
     "data": {
      "text/plain": [
       "9\n"
      ]
     },
     "metadata": {},
     "output_type": "display_data"
    }
   ],
   "source": [
    "# List Length\n",
    "# Determine the number of elements in the list.\n",
    "numbers = [1, 1, 2, 2, 3, 3, 4, 4]\n",
    "len(numbers)"
   ]
  },
  {
   "cell_type": "code",
   "execution_count": null,
   "metadata": {},
   "outputs": [
    {
     "data": {
      "text/plain": [
       "[1, 1, 2, 2, 3, 3, 4, 4]\n"
      ]
     },
     "metadata": {},
     "output_type": "display_data"
    }
   ],
   "source": [
    "#Copying new list\n",
    "numbers = [1, 1, 2, 2, 3, 3, 4, 4]\n",
    "copiednumbers = numbers.copy()\n",
    "print(copiednumbers)"
   ]
  },
  {
   "cell_type": "code",
   "execution_count": null,
   "metadata": {},
   "outputs": [
    {
     "data": {
      "text/plain": [
       "[2, 3]\n"
      ]
     },
     "metadata": {},
     "output_type": "display_data"
    }
   ],
   "source": [
    "# Get Middle Element\n",
    "# Find the middle element(s) of the list. If the list has an even number of elements, return the two middle elements.\n",
    "numbers = [1, 1, 2, 2, 3, 3, 4, 4]\n",
    "mid = len(numbers) // 2\n",
    "print([numbers[mid]] if len(numbers) % 2 != 0 else [numbers[mid - 1], numbers[mid]])"
   ]
  },
  {
   "cell_type": "code",
   "execution_count": null,
   "metadata": {},
   "outputs": [
    {
     "data": {
      "text/plain": [
       "2\n"
      ]
     },
     "metadata": {},
     "output_type": "display_data"
    }
   ],
   "source": [
    "# Find Maximum of Sublist\n",
    "# Find the maximum element in the specified sublist of the original list.\n",
    "numbers = [1, 1, 2, 2, 3, 3, 4, 4]\n",
    "start, end = 1, 4  # Example range\n",
    "print(max(numbers[start:end]) if start < end <= len(numbers) else None)"
   ]
  },
  {
   "cell_type": "code",
   "execution_count": null,
   "metadata": {},
   "outputs": [
    {
     "data": {
      "text/plain": [
       "1\n"
      ]
     },
     "metadata": {},
     "output_type": "display_data"
    }
   ],
   "source": [
    "# Find Minimum of Sublist\n",
    "# Find the minimum element in the specified sublist of the original list.\n",
    "numbers = [1, 1, 2, 2, 3, 3, 4, 4]\n",
    "start, end = 1, 4  # Example range\n",
    "print(min(numbers[start:end]) if start < end <= len(numbers) else None)"
   ]
  },
  {
   "cell_type": "code",
   "execution_count": null,
   "metadata": {},
   "outputs": [
    {
     "data": {
      "text/plain": [
       "2\n"
      ]
     },
     "metadata": {},
     "output_type": "display_data"
    }
   ],
   "source": [
    "# Remove Element by Index\n",
    "# Remove the element at the specified index from the list if the index is valid.\n",
    "numbers = [1, 1, 2, 2, 3, 3, 4, 4]\n",
    "index = 2\n",
    "if 0 <= index and index <= len(numbers):\n",
    "    print(numbers.pop(index))\n",
    "else:\n",
    "    print(\"invalid index\")"
   ]
  },
  {
   "cell_type": "code",
   "execution_count": null,
   "metadata": {},
   "outputs": [
    {
     "data": {
      "text/plain": [
       "True\n"
      ]
     },
     "metadata": {},
     "output_type": "display_data"
    }
   ],
   "source": [
    "# Check if List is Sorted\n",
    "# Determine if the list is sorted in ascending order.\n",
    "numbers = [1, 1, 2, 2, 3, 3, 4, 4]\n",
    "print(numbers == sorted(numbers))"
   ]
  },
  {
   "cell_type": "code",
   "execution_count": null,
   "metadata": {},
   "outputs": [
    {
     "data": {
      "text/plain": [
       "[1, 1, 1, 1, 1, 1, 2, 2, 2, 2, 2, 2, 3, 3, 3, 3, 3, 3, 4, 4, 4, 4, 4, 4]\n"
      ]
     },
     "metadata": {},
     "output_type": "display_data"
    }
   ],
   "source": [
    "# Repeat Elements\n",
    "# Create a new list where each element of the original list is repeated `n` times.\n",
    "numbers = [1, 1, 2, 2, 3, 3, 4, 4]\n",
    "n = 3\n",
    "result = []\n",
    "for num in numbers:\n",
    "    for _ in range(n):\n",
    "        result.append(num)\n",
    "print(result)\n"
   ]
  },
  {
   "cell_type": "code",
   "execution_count": null,
   "metadata": {},
   "outputs": [
    {
     "data": {
      "text/plain": [
       "[1, 2, 3, 4, 5, 6]\n"
      ]
     },
     "metadata": {},
     "output_type": "display_data"
    }
   ],
   "source": [
    "# Merge and Sort\n",
    "# Merge two lists and create a new sorted list.\n",
    "list1 = [3, 1, 2]\n",
    "list2 = [6, 5, 4]\n",
    "print(sorted(list1 + list2))"
   ]
  },
  {
   "cell_type": "code",
   "execution_count": null,
   "metadata": {},
   "outputs": [
    {
     "data": {
      "text/plain": [
       "[2, 3]\n"
      ]
     },
     "metadata": {},
     "output_type": "display_data"
    }
   ],
   "source": [
    "# Find All Indices\n",
    "# Find all the indices of the specified element in the list.\n",
    "numbers = [1, 1, 2, 2, 3, 3, 4, 4]\n",
    "element = 2\n",
    "indices = []\n",
    "for i, num in enumerate(numbers):\n",
    "    if num == element:\n",
    "        indices.append(i)\n",
    "\n",
    "print(indices)"
   ]
  },
  {
   "cell_type": "code",
   "execution_count": null,
   "metadata": {},
   "outputs": [
    {
     "data": {
      "text/plain": [
       "[4, 4, 1, 1, 2, 2, 3, 3]\n"
      ]
     },
     "metadata": {},
     "output_type": "display_data"
    }
   ],
   "source": [
    "# Rotate List\n",
    "# Create a new list that is a rotated version of the original list.\n",
    "numbers = [1, 1, 2, 2, 3, 3, 4, 4]\n",
    "k = 2  # Number of rotations\n",
    "print(numbers[-k:] + numbers[:-k])\n"
   ]
  },
  {
   "cell_type": "code",
   "execution_count": null,
   "metadata": {},
   "outputs": [
    {
     "data": {
      "text/plain": [
       "Traceback (most recent call last):\n",
       "  File \"c:\\Users\\user\\.vscode\\extensions\\ms-python.python-2024.22.2-win32-x64\\python_files\\python_server.py\", line 133, in exec_user_input\n",
       "    retval = callable_(user_input, user_globals)\n",
       "             ^^^^^^^^^^^^^^^^^^^^^^^^^^^^^^^^^^^\n",
       "  File \"<string>\", line 5, in <module>\n",
       "TypeError: 'list' object is not callable\n",
       "\n"
      ]
     },
     "metadata": {},
     "output_type": "display_data"
    }
   ],
   "source": [
    "# Create Range List\n",
    "# Create a list of numbers in a specified range.\n",
    "numbers = [1, 1, 2, 2, 3, 3, 4, 4]\n",
    "start, end = 1, 10\n",
    "numbersrange = numbers(range(start, end + 1))\n",
    "print(numbersrange)\n"
   ]
  },
  {
   "cell_type": "code",
   "execution_count": null,
   "metadata": {},
   "outputs": [
    {
     "data": {
      "text/plain": [
       "28\n"
      ]
     },
     "metadata": {},
     "output_type": "display_data"
    }
   ],
   "source": [
    "# Sum of Positive Numbers\n",
    "# Calculate the sum of all positive numbers in the list.\n",
    "numbers = [1, 1, 2, 2, 3, 3, 4, 4]\n",
    "sum(num for num in numbers if num > 0)\n"
   ]
  },
  {
   "cell_type": "code",
   "execution_count": null,
   "metadata": {},
   "outputs": [
    {
     "data": {
      "text/plain": [
       "0\n"
      ]
     },
     "metadata": {},
     "output_type": "display_data"
    }
   ],
   "source": [
    "# Sum of Negative Numbers\n",
    "# Calculate the sum of all negative numbers in the list.\n",
    "numbers = [1, 1, 2, 2, 3, 3, 4, 4]\n",
    "sum(num for num in numbers if num < 0)"
   ]
  },
  {
   "cell_type": "code",
   "execution_count": null,
   "metadata": {},
   "outputs": [
    {
     "data": {
      "text/plain": [
       "[1, 1, 2, 2, 3, 3, 4, 4]\n",
       "it is not palindrome\n"
      ]
     },
     "metadata": {},
     "output_type": "display_data"
    }
   ],
   "source": [
    "# Check Palindrome\n",
    "# Check if the list is a palindrome (reads the same forwards and backwards).\n",
    "numbers = [1, 1, 2, 2, 3, 3, 4, 4]\n",
    "print(numbers)\n",
    "if numbers == numbers[::-1]:\n",
    "    print(\"it is palindrome\")\n",
    "else:\n",
    "    print(\"it is not palindrome\")\n"
   ]
  },
  {
   "cell_type": "code",
   "execution_count": null,
   "metadata": {},
   "outputs": [
    {
     "data": {
      "text/plain": [
       "[[1, 1], [2, 2], [3, 3], [4, 4]]\n"
      ]
     },
     "metadata": {},
     "output_type": "display_data"
    }
   ],
   "source": [
    "# Create Nested List\n",
    "# Create a new list that contains sublists, where each sublist contains `n` elements from the original list.\n",
    "numbers = [1, 1, 2, 2, 3, 3, 4, 4]\n",
    "n = 2\n",
    "result = []\n",
    "\n",
    "for i in range(0, len(numbers), n):\n",
    "    result.append(numbers[i:i + n])\n",
    "\n",
    "print(result)"
   ]
  },
  {
   "cell_type": "code",
   "execution_count": null,
   "metadata": {},
   "outputs": [
    {
     "data": {
      "text/plain": [
       "[1, 2, 3, 4]\n"
      ]
     },
     "metadata": {},
     "output_type": "display_data"
    }
   ],
   "source": [
    "# Get Unique Elements in Order\n",
    "# Create a new list that contains unique elements from the original list while maintaining the original order.\n",
    "numbers = [1, 1, 2, 2, 3, 3, 4, 4]\n",
    "unique_numbers = []\n",
    "seen = set()\n",
    "\n",
    "for num in numbers:\n",
    "    if num not in seen:\n",
    "        unique_numbers.append(num)\n",
    "        seen.add(num)\n",
    "\n",
    "print(unique_numbers) "
   ]
  }
 ],
 "metadata": {
  "language_info": {
   "name": "python"
  }
 },
 "nbformat": 4,
 "nbformat_minor": 2
}
