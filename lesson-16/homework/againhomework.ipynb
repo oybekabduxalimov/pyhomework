{
 "cells": [
  {
   "cell_type": "code",
   "execution_count": 1,
   "metadata": {},
   "outputs": [
    {
     "ename": "ModuleNotFoundError",
     "evalue": "No module named 'pandas'",
     "output_type": "error",
     "traceback": [
      "\u001b[31m---------------------------------------------------------------------------\u001b[39m",
      "\u001b[31mModuleNotFoundError\u001b[39m                       Traceback (most recent call last)",
      "\u001b[36mCell\u001b[39m\u001b[36m \u001b[39m\u001b[32mIn[1]\u001b[39m\u001b[32m, line 1\u001b[39m\n\u001b[32m----> \u001b[39m\u001b[32m1\u001b[39m \u001b[38;5;28;01mimport\u001b[39;00m\u001b[38;5;250m \u001b[39m\u001b[34;01mpandas\u001b[39;00m\u001b[38;5;250m \u001b[39m\u001b[38;5;28;01mas\u001b[39;00m\u001b[38;5;250m \u001b[39m\u001b[34;01mpd\u001b[39;00m\n\u001b[32m      2\u001b[39m \u001b[38;5;28;01mimport\u001b[39;00m\u001b[38;5;250m \u001b[39m\u001b[34;01msqlite3\u001b[39;00m\n\u001b[32m      4\u001b[39m \u001b[38;5;66;03m# Part 1: Reading Files\u001b[39;00m\n\u001b[32m      5\u001b[39m \n\u001b[32m      6\u001b[39m \u001b[38;5;66;03m# 1. Reading chinook.db (SQLite)\u001b[39;00m\n",
      "\u001b[31mModuleNotFoundError\u001b[39m: No module named 'pandas'"
     ]
    }
   ],
   "source": [
    "import pandas as pd\n",
    "import sqlite3\n",
    "\n",
    "# Part 1: Reading Files\n",
    "\n",
    "# 1. Reading chinook.db (SQLite)\n",
    "conn = sqlite3.connect('chinook.db')\n",
    "customers_df = pd.read_sql_query(\"SELECT * FROM customers\", conn)\n",
    "conn.close()\n",
    "print(customers_df.head(10))\n",
    "\n",
    "# 2. Reading iris.json (JSON)\n",
    "iris_df = pd.read_json('iris.json')\n",
    "print(iris_df.shape)\n",
    "print(iris_df.columns)\n",
    "\n",
    "# 3. Reading titanic.xlsx (Excel)\n",
    "titanic_df = pd.read_excel('titanic.xlsx')\n",
    "print(titanic_df.head())\n",
    "\n",
    "# 4. Reading Flights parquet file (Parquet)\n",
    "flights_df = pd.read_parquet('flights.parquet')\n",
    "print(flights_df.info())\n",
    "\n",
    "# 5. Reading movie.csv (CSV)\n",
    "movie_df = pd.read_csv('movie.csv')\n",
    "print(movie_df.sample(10))\n"
   ]
  },
  {
   "cell_type": "code",
   "execution_count": null,
   "metadata": {},
   "outputs": [],
   "source": [
    "# Part 2: Exploring DataFrames\n",
    "\n",
    "# 1. Exploring iris.json DataFrame\n",
    "iris_df.columns = [col.lower() for col in iris_df.columns]\n",
    "iris_selected = iris_df[['sepal_length', 'sepal_width']]\n",
    "print(iris_selected.head())\n",
    "\n",
    "# 2. Exploring titanic.xlsx DataFrame\n",
    "titanic_filtered = titanic_df[titanic_df['Age'] > 30]\n",
    "print(titanic_filtered)\n",
    "gender_counts = titanic_df['Sex'].value_counts()\n",
    "print(gender_counts)\n",
    "\n",
    "# 3. Exploring Flights parquet DataFrame\n",
    "flights_selected = flights_df[['origin', 'dest', 'carrier']]\n",
    "print(flights_selected.head())\n",
    "unique_destinations = flights_df['dest'].nunique()\n",
    "print(f\"Number of unique destinations: {unique_destinations}\")\n",
    "\n",
    "# 4. Exploring movie.csv DataFrame\n",
    "long_movies = movie_df[movie_df['duration'] > 120]\n",
    "sorted_long_movies = long_movies.sort_values(by='director_facebook_likes', ascending=False)\n",
    "print(sorted_long_movies.head())"
   ]
  },
  {
   "cell_type": "code",
   "execution_count": null,
   "metadata": {},
   "outputs": [],
   "source": [
    "# Part 3: Challenges and Explorations\n",
    "\n",
    "# iris.json: Statistical Analysis\n",
    "print(iris_df.describe().loc[['mean', '50%', 'std']])\n",
    "\n",
    "# titanic.xlsx: Age Analysis\n",
    "print(f\"Min Age: {titanic_df['Age'].min()}\")\n",
    "print(f\"Max Age: {titanic_df['Age'].max()}\")\n",
    "print(f\"Total Age Sum: {titanic_df['Age'].sum()}\")\n",
    "\n",
    "# movie.csv: Director Analysis\n",
    "director_likes = movie_df.groupby('director_name')['director_facebook_likes'].sum().idxmax()\n",
    "print(f\"Director with highest total likes: {director_likes}\")\n",
    "\n",
    "longest_movies = movie_df[['title', 'director_name', 'duration']].sort_values(by='duration', ascending=False).head(5)\n",
    "print(longest_movies)\n",
    "\n",
    "# Flights parquet: Handling Missing Values\n",
    "missing_counts = flights_df.isna().sum()\n",
    "print(f\"Missing values:\\n{missing_counts}\")\n",
    "\n",
    "# Filling missing values in numerical columns with their means\n",
    "for column in flights_df.select_dtypes(include=['float64', 'int64']).columns:\n",
    "    flights_df[column].fillna(flights_df[column].mean(), inplace=True)# Part 3: Challenges and Explorations\n",
    "\n",
    "# iris.json: Statistical Analysis\n",
    "print(iris_df.describe().loc[['mean', '50%', 'std']])\n",
    "\n",
    "# titanic.xlsx: Age Analysis\n",
    "print(f\"Min Age: {titanic_df['Age'].min()}\")\n",
    "print(f\"Max Age: {titanic_df['Age'].max()}\")\n",
    "print(f\"Total Age Sum: {titanic_df['Age'].sum()}\")\n",
    "\n",
    "# movie.csv: Director Analysis\n",
    "director_likes = movie_df.groupby('director_name')['director_facebook_likes'].sum().idxmax()\n",
    "print(f\"Director with highest total likes: {director_likes}\")\n",
    "\n",
    "longest_movies = movie_df[['title', 'director_name', 'duration']].sort_values(by='duration', ascending=False).head(5)\n",
    "print(longest_movies)\n",
    "\n",
    "# Flights parquet: Handling Missing Values\n",
    "missing_counts = flights_df.isna().sum()\n",
    "print(f\"Missing values:\\n{missing_counts}\")\n",
    "\n",
    "# Filling missing values in numerical columns with their means\n",
    "for column in flights_df.select_dtypes(include=['float64', 'int64']).columns:\n",
    "    flights_df[column].fillna(flights_df[column].mean(), inplace=True)"
   ]
  }
 ],
 "metadata": {
  "kernelspec": {
   "display_name": "Python 3",
   "language": "python",
   "name": "python3"
  },
  "language_info": {
   "codemirror_mode": {
    "name": "ipython",
    "version": 3
   },
   "file_extension": ".py",
   "mimetype": "text/x-python",
   "name": "python",
   "nbconvert_exporter": "python",
   "pygments_lexer": "ipython3",
   "version": "3.13.2"
  }
 },
 "nbformat": 4,
 "nbformat_minor": 2
}
